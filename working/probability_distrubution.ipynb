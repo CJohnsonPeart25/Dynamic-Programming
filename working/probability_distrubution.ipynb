{
 "cells": [
  {
   "attachments": {},
   "cell_type": "markdown",
   "metadata": {},
   "source": [
    "## Probability Distribution of N length\n",
    "\n",
    "The aim is to generate a list of all possible combinations of n length that sum into the target\n",
    "\n",
    "eg target=1; n=3; res=[0,0,1],[0,0.1,0.9],...[0.3,0.5,0.2]...[1,0,0]"
   ]
  },
  {
   "cell_type": "code",
   "execution_count": 2,
   "metadata": {},
   "outputs": [],
   "source": [
    "def get_combinations(target_sum, array_length, max_number= 1,decimal_places=1):\n",
    "    def _get_array(max, dp):\n",
    "        return [i / 10**dp for i in range(int(max*10**dp) + 1)] \n",
    "    # BASE CASES\n",
    "    # Values exceed the sum, not possible\n",
    "    if target_sum<0:\n",
    "        return None\n",
    "    # Values match sum\n",
    "    if target_sum==0:\n",
    "        return []\n",
    "    # Sum not reached, continue loop\n",
    "    for number in r\n"
   ]
  },
  {
   "cell_type": "code",
   "execution_count": null,
   "metadata": {},
   "outputs": [],
   "source": [
    "get_combinations(target_sum=5, array_length=3, decimal_places=1)"
   ]
  },
  {
   "cell_type": "code",
   "execution_count": 3,
   "metadata": {},
   "outputs": [
    {
     "data": {
      "text/plain": [
       "False"
      ]
     },
     "execution_count": 3,
     "metadata": {},
     "output_type": "execute_result"
    }
   ],
   "source": [
    "None == []"
   ]
  },
  {
   "cell_type": "code",
   "execution_count": 19,
   "metadata": {},
   "outputs": [],
   "source": [
    "def get_array(max, dp):\n",
    "    return [i / 10**dp for i in range(int(max*10**dp) + 1)]\n"
   ]
  },
  {
   "cell_type": "code",
   "execution_count": 22,
   "metadata": {},
   "outputs": [
    {
     "data": {
      "text/plain": [
       "1000001"
      ]
     },
     "execution_count": 22,
     "metadata": {},
     "output_type": "execute_result"
    }
   ],
   "source": [
    "len(get_array(10,5))"
   ]
  },
  {
   "cell_type": "code",
   "execution_count": 24,
   "metadata": {},
   "outputs": [],
   "source": [
    "import itertools\n",
    "\n",
    "def generate_probabilities(n):\n",
    "    for combination in itertools.product(range(101), repeat=n):\n",
    "        if sum(combination) == 100:\n",
    "            yield tuple(round(p / 100.0, 2) for p in combination)\n"
   ]
  },
  {
   "cell_type": "code",
   "execution_count": 25,
   "metadata": {},
   "outputs": [
    {
     "name": "stdout",
     "output_type": "stream",
     "text": [
      "(0.0, 1.0)\n",
      "(0.01, 0.99)\n",
      "(0.02, 0.98)\n",
      "(0.03, 0.97)\n",
      "(0.04, 0.96)\n",
      "(0.05, 0.95)\n",
      "(0.06, 0.94)\n",
      "(0.07, 0.93)\n",
      "(0.08, 0.92)\n",
      "(0.09, 0.91)\n",
      "(0.1, 0.9)\n",
      "(0.11, 0.89)\n",
      "(0.12, 0.88)\n",
      "(0.13, 0.87)\n",
      "(0.14, 0.86)\n",
      "(0.15, 0.85)\n",
      "(0.16, 0.84)\n",
      "(0.17, 0.83)\n",
      "(0.18, 0.82)\n",
      "(0.19, 0.81)\n",
      "(0.2, 0.8)\n",
      "(0.21, 0.79)\n",
      "(0.22, 0.78)\n",
      "(0.23, 0.77)\n",
      "(0.24, 0.76)\n",
      "(0.25, 0.75)\n",
      "(0.26, 0.74)\n",
      "(0.27, 0.73)\n",
      "(0.28, 0.72)\n",
      "(0.29, 0.71)\n",
      "(0.3, 0.7)\n",
      "(0.31, 0.69)\n",
      "(0.32, 0.68)\n",
      "(0.33, 0.67)\n",
      "(0.34, 0.66)\n",
      "(0.35, 0.65)\n",
      "(0.36, 0.64)\n",
      "(0.37, 0.63)\n",
      "(0.38, 0.62)\n",
      "(0.39, 0.61)\n",
      "(0.4, 0.6)\n",
      "(0.41, 0.59)\n",
      "(0.42, 0.58)\n",
      "(0.43, 0.57)\n",
      "(0.44, 0.56)\n",
      "(0.45, 0.55)\n",
      "(0.46, 0.54)\n",
      "(0.47, 0.53)\n",
      "(0.48, 0.52)\n",
      "(0.49, 0.51)\n",
      "(0.5, 0.5)\n",
      "(0.51, 0.49)\n",
      "(0.52, 0.48)\n",
      "(0.53, 0.47)\n",
      "(0.54, 0.46)\n",
      "(0.55, 0.45)\n",
      "(0.56, 0.44)\n",
      "(0.57, 0.43)\n",
      "(0.58, 0.42)\n",
      "(0.59, 0.41)\n",
      "(0.6, 0.4)\n",
      "(0.61, 0.39)\n",
      "(0.62, 0.38)\n",
      "(0.63, 0.37)\n",
      "(0.64, 0.36)\n",
      "(0.65, 0.35)\n",
      "(0.66, 0.34)\n",
      "(0.67, 0.33)\n",
      "(0.68, 0.32)\n",
      "(0.69, 0.31)\n",
      "(0.7, 0.3)\n",
      "(0.71, 0.29)\n",
      "(0.72, 0.28)\n",
      "(0.73, 0.27)\n",
      "(0.74, 0.26)\n",
      "(0.75, 0.25)\n",
      "(0.76, 0.24)\n",
      "(0.77, 0.23)\n",
      "(0.78, 0.22)\n",
      "(0.79, 0.21)\n",
      "(0.8, 0.2)\n",
      "(0.81, 0.19)\n",
      "(0.82, 0.18)\n",
      "(0.83, 0.17)\n",
      "(0.84, 0.16)\n",
      "(0.85, 0.15)\n",
      "(0.86, 0.14)\n",
      "(0.87, 0.13)\n",
      "(0.88, 0.12)\n",
      "(0.89, 0.11)\n",
      "(0.9, 0.1)\n",
      "(0.91, 0.09)\n",
      "(0.92, 0.08)\n",
      "(0.93, 0.07)\n",
      "(0.94, 0.06)\n",
      "(0.95, 0.05)\n",
      "(0.96, 0.04)\n",
      "(0.97, 0.03)\n",
      "(0.98, 0.02)\n",
      "(0.99, 0.01)\n",
      "(1.0, 0.0)\n"
     ]
    }
   ],
   "source": [
    "n = 2  # Change n to the desired number of variables\n",
    "for probabilities in generate_probabilities(n):\n",
    "    print(probabilities)\n"
   ]
  }
 ],
 "metadata": {
  "kernelspec": {
   "display_name": "base",
   "language": "python",
   "name": "python3"
  },
  "language_info": {
   "codemirror_mode": {
    "name": "ipython",
    "version": 3
   },
   "file_extension": ".py",
   "mimetype": "text/x-python",
   "name": "python",
   "nbconvert_exporter": "python",
   "pygments_lexer": "ipython3",
   "version": "3.9.12"
  },
  "orig_nbformat": 4
 },
 "nbformat": 4,
 "nbformat_minor": 2
}
