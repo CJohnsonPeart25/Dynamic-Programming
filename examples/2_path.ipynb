{
 "cells": [
  {
   "cell_type": "markdown",
   "metadata": {},
   "source": [
    "## Pathing\n",
    "This is another common problem where a person, starting in the top left can only travel either right or down to get to the end.\n",
    "How many paths can the person take?\n",
    "\n",
    "in the example of (where; 0 is an empty space, and 1 is a blocked space) \n",
    "[0,0,0]\n",
    "[0,1,0]\n",
    "[0,0,0]\n",
    "There are only 2 paths, all rights then down\n",
    "or all downs then right.\n",
    "\n",
    "In the example of:\n",
    "[0,0,1]\n",
    "[0,0,1]\n",
    "[0,0,0]\n",
    "they can take 3 paths\n",
    "DDRR ; DRDR ; RDDR"
   ]
  },
  {
   "cell_type": "code",
   "execution_count": 88,
   "metadata": {},
   "outputs": [],
   "source": [
    "grid_3s = [\n",
    "    [0,0,0],\n",
    "    [0,1,0],\n",
    "    [0,0,0],\n",
    "]\n",
    "\n",
    "grid_5s = [\n",
    "    [0,0,0,0,0],\n",
    "    [0,0,0,1,0],\n",
    "    [0,1,0,1,0],\n",
    "    [0,0,0,0,0],\n",
    "    [0,0,0,0,0],\n",
    "]\n",
    "\n",
    "grid_7s = [\n",
    "    [0,0,0,0,0,0,0],\n",
    "    [1,0,1,0,1,1,0],\n",
    "    [0,0,0,0,0,0,0],\n",
    "    [0,0,0,0,0,0,0],\n",
    "    [0,0,0,0,1,0,0],\n",
    "    [0,0,0,0,0,0,0],\n",
    "    [0,0,0,0,0,0,0],\n",
    "]"
   ]
  },
  {
   "cell_type": "code",
   "execution_count": 89,
   "metadata": {},
   "outputs": [],
   "source": [
    "def get_num_paths(grid, current_space=(0, 0)):\n",
    "    row, col = current_space\n",
    "    # print(row,col)\n",
    "    # Return 1 if at end\n",
    "    if row == len(grid) - 1 and col == len(grid[row]) - 1:\n",
    "        return 1\n",
    "    # Return 0 if outside grid\n",
    "    if row > len(grid) - 1 or col > len(grid[row]) - 1:\n",
    "        return 0\n",
    "    # Return 0 if in empty space\n",
    "    if grid[row][col] == 1:\n",
    "        return 0\n",
    "    number_of_paths = get_num_paths(grid, (row + 1, col)) + get_num_paths(grid, (row, col + 1))\n",
    "\n",
    "    return number_of_paths\n"
   ]
  },
  {
   "cell_type": "code",
   "execution_count": null,
   "metadata": {},
   "outputs": [],
   "source": []
  },
  {
   "cell_type": "code",
   "execution_count": 90,
   "metadata": {},
   "outputs": [
    {
     "data": {
      "text/plain": [
       "2"
      ]
     },
     "execution_count": 90,
     "metadata": {},
     "output_type": "execute_result"
    }
   ],
   "source": [
    "get_num_paths(grid_3s)"
   ]
  },
  {
   "cell_type": "code",
   "execution_count": 91,
   "metadata": {},
   "outputs": [
    {
     "data": {
      "text/plain": [
       "15"
      ]
     },
     "execution_count": 91,
     "metadata": {},
     "output_type": "execute_result"
    }
   ],
   "source": [
    "get_num_paths(grid_5s)"
   ]
  },
  {
   "cell_type": "code",
   "execution_count": 92,
   "metadata": {},
   "outputs": [
    {
     "data": {
      "text/plain": [
       "84"
      ]
     },
     "execution_count": 92,
     "metadata": {},
     "output_type": "execute_result"
    }
   ],
   "source": [
    "get_num_paths(grid_7s)"
   ]
  },
  {
   "cell_type": "code",
   "execution_count": 93,
   "metadata": {},
   "outputs": [],
   "source": [
    "def get_num_paths_memo(grid, current_space=(0,0), memo={}):\n",
    "    row, col = current_space\n",
    "    # print(row,col)\n",
    "    # Return 1 if at end, only 1 way to get from end to end\n",
    "    if row == len(grid) - 1 and col == len(grid[row]) - 1:\n",
    "        return 1\n",
    "    # Return 0 if outside grid, there are 0 ways to get from outside the grid to inside\n",
    "    if row > len(grid) - 1 or col > len(grid[row]) - 1:\n",
    "        return 0\n",
    "    # Return 0 if in empty space, 0 ways to get from empty space to grid\n",
    "    if grid[row][col] == 1:\n",
    "        return 0\n",
    "    if current_space in memo:\n",
    "        return memo[current_space]\n",
    "    \n",
    "    number_of_paths = get_num_paths_memo(grid, (row + 1, col), memo) + get_num_paths_memo(grid, (row, col + 1), memo)\n",
    "    memo[current_space] = number_of_paths\n",
    "    return number_of_paths\n"
   ]
  },
  {
   "cell_type": "code",
   "execution_count": 94,
   "metadata": {},
   "outputs": [
    {
     "data": {
      "text/plain": [
       "2"
      ]
     },
     "execution_count": 94,
     "metadata": {},
     "output_type": "execute_result"
    }
   ],
   "source": [
    "get_num_paths_memo(grid_3s, memo={})"
   ]
  },
  {
   "cell_type": "code",
   "execution_count": 95,
   "metadata": {},
   "outputs": [
    {
     "data": {
      "text/plain": [
       "15"
      ]
     },
     "execution_count": 95,
     "metadata": {},
     "output_type": "execute_result"
    }
   ],
   "source": [
    "get_num_paths_memo(grid_5s, memo={})"
   ]
  },
  {
   "cell_type": "code",
   "execution_count": 96,
   "metadata": {},
   "outputs": [
    {
     "data": {
      "text/plain": [
       "84"
      ]
     },
     "execution_count": 96,
     "metadata": {},
     "output_type": "execute_result"
    }
   ],
   "source": [
    "get_num_paths_memo(grid_7s, memo={})"
   ]
  },
  {
   "cell_type": "code",
   "execution_count": 97,
   "metadata": {},
   "outputs": [],
   "source": [
    "gen_grid = lambda n : [[0]*n]*n"
   ]
  },
  {
   "cell_type": "code",
   "execution_count": 98,
   "metadata": {},
   "outputs": [
    {
     "data": {
      "text/plain": [
       "[[0, 0, 0, 0, 0, 0, 0, 0, 0, 0, 0],\n",
       " [0, 0, 0, 0, 0, 0, 0, 0, 0, 0, 0],\n",
       " [0, 0, 0, 0, 0, 0, 0, 0, 0, 0, 0],\n",
       " [0, 0, 0, 0, 0, 0, 0, 0, 0, 0, 0],\n",
       " [0, 0, 0, 0, 0, 0, 0, 0, 0, 0, 0],\n",
       " [0, 0, 0, 0, 0, 0, 0, 0, 0, 0, 0],\n",
       " [0, 0, 0, 0, 0, 0, 0, 0, 0, 0, 0],\n",
       " [0, 0, 0, 0, 0, 0, 0, 0, 0, 0, 0],\n",
       " [0, 0, 0, 0, 0, 0, 0, 0, 0, 0, 0],\n",
       " [0, 0, 0, 0, 0, 0, 0, 0, 0, 0, 0],\n",
       " [0, 0, 0, 0, 0, 0, 0, 0, 0, 0, 0]]"
      ]
     },
     "execution_count": 98,
     "metadata": {},
     "output_type": "execute_result"
    }
   ],
   "source": [
    "gen_grid(11)"
   ]
  },
  {
   "cell_type": "code",
   "execution_count": 101,
   "metadata": {},
   "outputs": [
    {
     "data": {
      "text/plain": [
       "184756"
      ]
     },
     "execution_count": 101,
     "metadata": {},
     "output_type": "execute_result"
    }
   ],
   "source": [
    "get_num_paths_memo(gen_grid(11), memo={})"
   ]
  },
  {
   "cell_type": "code",
   "execution_count": 99,
   "metadata": {},
   "outputs": [
    {
     "name": "stdout",
     "output_type": "stream",
     "text": [
      "460 ms ± 16.6 ms per loop (mean ± std. dev. of 7 runs, 1 loop each)\n"
     ]
    }
   ],
   "source": [
    "%%timeit\n",
    "get_num_paths(gen_grid(11))"
   ]
  },
  {
   "cell_type": "code",
   "execution_count": 100,
   "metadata": {},
   "outputs": [
    {
     "name": "stdout",
     "output_type": "stream",
     "text": [
      "145 µs ± 1.15 µs per loop (mean ± std. dev. of 7 runs, 10000 loops each)\n"
     ]
    }
   ],
   "source": [
    "%%timeit\n",
    "get_num_paths_memo(gen_grid(11), memo={})"
   ]
  }
 ],
 "metadata": {
  "kernelspec": {
   "display_name": "Python 3.9.7 ('base')",
   "language": "python",
   "name": "python3"
  },
  "language_info": {
   "codemirror_mode": {
    "name": "ipython",
    "version": 3
   },
   "file_extension": ".py",
   "mimetype": "text/x-python",
   "name": "python",
   "nbconvert_exporter": "python",
   "pygments_lexer": "ipython3",
   "version": "3.9.7"
  },
  "orig_nbformat": 4,
  "vscode": {
   "interpreter": {
    "hash": "d36ff31bf5cc0e3bec87cc91114e6dcf91e731afb577f57b7634c8e36be42387"
   }
  }
 },
 "nbformat": 4,
 "nbformat_minor": 2
}
