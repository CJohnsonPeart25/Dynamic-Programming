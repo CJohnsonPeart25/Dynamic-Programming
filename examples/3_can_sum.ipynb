{
 "cells": [
  {
   "cell_type": "markdown",
   "metadata": {},
   "source": [
    "# CanSum?\n",
    "Function `can_sum(target_sum->Int, numbers=>List)->bool`\n",
    "\n",
    "Function should return boolean indicating whether or not it is possible to generate the target sum using the given numbers\n",
    "\n",
    "You may use an element of the array as many times as needed\n",
    "\n",
    "Assume all nimbers given are non negative\n"
   ]
  },
  {
   "cell_type": "markdown",
   "metadata": {},
   "source": [
    "### Thoughts\n",
    "sort numbers largest to smallest\n",
    "12, 6, 4, 3\n",
    "\n",
    "tree starts off with sum as 0\n",
    "0\n",
    "12 | 6 | 4 | 3\n",
    "for each node, add a child for each number in list\n",
    "12+12| 12+6 | 12+4 | 12+3 \n",
    "\n",
    "Base case is number > target return false\n",
    "\n",
    "Base Case if number == Target return true\n",
    "\n",
    "else return or(cansum())"
   ]
  },
  {
   "cell_type": "code",
   "execution_count": 1,
   "metadata": {},
   "outputs": [],
   "source": [
    "def can_sum(target_sum, numbers):\n",
    "    # print(target_sum)\n",
    "    if target_sum < 0:\n",
    "        return False\n",
    "    if target_sum == 0:\n",
    "        return True\n",
    "\n",
    "    for number in numbers:\n",
    "        if can_sum(target_sum-number, numbers):\n",
    "            return True\n",
    "        \n",
    "    return False"
   ]
  },
  {
   "cell_type": "code",
   "execution_count": 2,
   "metadata": {},
   "outputs": [
    {
     "name": "stdout",
     "output_type": "stream",
     "text": [
      "True\n"
     ]
    }
   ],
   "source": [
    "target = 10\n",
    "numbers = [3,4,6,12]\n",
    "print(can_sum(target, numbers))"
   ]
  },
  {
   "cell_type": "code",
   "execution_count": 3,
   "metadata": {},
   "outputs": [],
   "source": [
    "def can_sum_memo(target_sum, numbers, memo={}):\n",
    "    numbers.sort(reverse=True)\n",
    "    if target_sum < 0:\n",
    "        return False\n",
    "    if target_sum == 0:\n",
    "        return True\n",
    "    if target_sum in memo:\n",
    "        return memo[target_sum]\n",
    "\n",
    "    for number in numbers:\n",
    "        if can_sum_memo(target_sum - number, numbers, memo):\n",
    "            memo[target_sum] = True\n",
    "            return True\n",
    "\n",
    "    memo[target_sum] = False\n",
    "    return False\n"
   ]
  },
  {
   "cell_type": "code",
   "execution_count": 4,
   "metadata": {},
   "outputs": [
    {
     "name": "stdout",
     "output_type": "stream",
     "text": [
      "True\n"
     ]
    }
   ],
   "source": [
    "target = 10\n",
    "numbers = [3,4,6,12]\n",
    "print(can_sum_memo(target, numbers))"
   ]
  },
  {
   "cell_type": "code",
   "execution_count": 5,
   "metadata": {},
   "outputs": [],
   "source": [
    "target = 150\n",
    "numbers = [7, 14]\n",
    "memo_ex = {}\n"
   ]
  },
  {
   "cell_type": "code",
   "execution_count": 8,
   "metadata": {},
   "outputs": [
    {
     "name": "stdout",
     "output_type": "stream",
     "text": [
      "14.2 ms ± 0 ns per loop (mean ± std. dev. of 1 run, 1 loop each)\n"
     ]
    }
   ],
   "source": [
    "%%timeit -n 1 -r 1\n",
    "(can_sum(target, numbers))"
   ]
  },
  {
   "cell_type": "code",
   "execution_count": 9,
   "metadata": {},
   "outputs": [
    {
     "name": "stdout",
     "output_type": "stream",
     "text": [
      "405 ns ± 12.2 ns per loop (mean ± std. dev. of 7 runs, 1000000 loops each)\n"
     ]
    }
   ],
   "source": [
    "%%timeit\n",
    "(can_sum_memo(target, numbers, memo_ex))\n"
   ]
  }
 ],
 "metadata": {
  "kernelspec": {
   "display_name": "Python 3.9.7 ('base')",
   "language": "python",
   "name": "python3"
  },
  "language_info": {
   "codemirror_mode": {
    "name": "ipython",
    "version": 3
   },
   "file_extension": ".py",
   "mimetype": "text/x-python",
   "name": "python",
   "nbconvert_exporter": "python",
   "pygments_lexer": "ipython3",
   "version": "3.9.7"
  },
  "orig_nbformat": 4,
  "vscode": {
   "interpreter": {
    "hash": "d36ff31bf5cc0e3bec87cc91114e6dcf91e731afb577f57b7634c8e36be42387"
   }
  }
 },
 "nbformat": 4,
 "nbformat_minor": 2
}
