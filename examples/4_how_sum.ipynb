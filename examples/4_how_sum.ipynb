{
 "cells": [
  {
   "attachments": {},
   "cell_type": "markdown",
   "metadata": {},
   "source": [
    "# HowSum?\n",
    "Function `how_sum(target_sum->Int, numbers=>List)->list`\n",
    "\n",
    "Similar to can_sum, but gives the summing list\n",
    "\n",
    "You may use an element of the array as many times as needed\n",
    "\n",
    "Assume all numbers given are non negative\n"
   ]
  },
  {
   "cell_type": "code",
   "execution_count": 7,
   "metadata": {},
   "outputs": [],
   "source": [
    "def how_sum(target_sum: int, numbers:list[int], memo:dict=None)->list[int]:\n",
    "    \"\"\"\n",
    "    Returns a list of numbers that sum to meet the target_number. If its not possible, return None.\n",
    "    The same number can be used multiple times, for addition only.\n",
    "\n",
    "    Args:\n",
    "        target_sum (int): The number we need to sum to.\n",
    "        numbers (list[int]): The number we are allowed to use.\n",
    "        memo (dict, optional): To be used by the function only. Used to store any calculated return values, to prevent duplicate calculations of the same number. Defaults to None.\n",
    "\n",
    "    Returns:\n",
    "        list[int]: A list of numbers, that when summed gives you the target value.\n",
    "    \"\"\"\n",
    "    # Memoisation\n",
    "    if memo is None:\n",
    "        memo = {}\n",
    "    if target_sum in memo:\n",
    "        return memo[target_sum]\n",
    "    \n",
    "    # Base Cases\n",
    "    if target_sum < 0:\n",
    "        return None\n",
    "    if target_sum == 0:\n",
    "        return []\n",
    "    \n",
    "    for number in numbers:\n",
    "        ret = how_sum(target_sum-number, numbers, memo)\n",
    "        if ret != None:\n",
    "            memo[target_sum]=[*ret, number]\n",
    "            return [*ret, number]\n",
    "        \n",
    "    memo[target_sum]=None    \n",
    "    return None"
   ]
  },
  {
   "cell_type": "code",
   "execution_count": 8,
   "metadata": {},
   "outputs": [
    {
     "data": {
      "text/plain": [
       "[10, 10, 35, 39, 39, 39, 39, 39]"
      ]
     },
     "execution_count": 8,
     "metadata": {},
     "output_type": "execute_result"
    }
   ],
   "source": [
    "memo_ex = {}\n",
    "y = how_sum(250, [39,35,25,10], memo_ex)\n",
    "y"
   ]
  },
  {
   "cell_type": "code",
   "execution_count": 9,
   "metadata": {},
   "outputs": [
    {
     "data": {
      "text/plain": [
       "{6: None,\n",
       " 16: None,\n",
       " 10: [10],\n",
       " 20: [10, 10],\n",
       " 55: [10, 10, 35],\n",
       " 94: [10, 10, 35, 39],\n",
       " 133: [10, 10, 35, 39, 39],\n",
       " 172: [10, 10, 35, 39, 39, 39],\n",
       " 211: [10, 10, 35, 39, 39, 39, 39],\n",
       " 250: [10, 10, 35, 39, 39, 39, 39, 39]}"
      ]
     },
     "execution_count": 9,
     "metadata": {},
     "output_type": "execute_result"
    }
   ],
   "source": [
    "memo_ex"
   ]
  }
 ],
 "metadata": {
  "kernelspec": {
   "display_name": "base",
   "language": "python",
   "name": "python3"
  },
  "language_info": {
   "codemirror_mode": {
    "name": "ipython",
    "version": 3
   },
   "file_extension": ".py",
   "mimetype": "text/x-python",
   "name": "python",
   "nbconvert_exporter": "python",
   "pygments_lexer": "ipython3",
   "version": "3.9.12"
  },
  "orig_nbformat": 4
 },
 "nbformat": 4,
 "nbformat_minor": 2
}
